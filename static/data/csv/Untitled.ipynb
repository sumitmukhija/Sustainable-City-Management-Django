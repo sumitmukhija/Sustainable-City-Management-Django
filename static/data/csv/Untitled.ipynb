{
 "cells": [
  {
   "cell_type": "code",
   "execution_count": 2,
   "metadata": {},
   "outputs": [],
   "source": [
    "import pandas as pd\n",
    "from matplotlib import pyplot"
   ]
  },
  {
   "cell_type": "code",
   "execution_count": 107,
   "metadata": {},
   "outputs": [],
   "source": [
    "df = pd.read_csv('BikesHistData.csv', header=0, index_col=0)"
   ]
  },
  {
   "cell_type": "code",
   "execution_count": 108,
   "metadata": {},
   "outputs": [
    {
     "data": {
      "text/html": [
       "<div>\n",
       "<style scoped>\n",
       "    .dataframe tbody tr th:only-of-type {\n",
       "        vertical-align: middle;\n",
       "    }\n",
       "\n",
       "    .dataframe tbody tr th {\n",
       "        vertical-align: top;\n",
       "    }\n",
       "\n",
       "    .dataframe thead th {\n",
       "        text-align: right;\n",
       "    }\n",
       "</style>\n",
       "<table border=\"1\" class=\"dataframe\">\n",
       "  <thead>\n",
       "    <tr style=\"text-align: right;\">\n",
       "      <th></th>\n",
       "      <th>FENIAN_STREET</th>\n",
       "      <th>CITY_QUAY</th>\n",
       "      <th>FITZWILLIAM_SQUARE_EAST</th>\n",
       "      <th>BROOKFIELD_ROAD</th>\n",
       "      <th>EMMET_ROAD</th>\n",
       "      <th>ROTHE_ABBEY</th>\n",
       "      <th>KING_STREET_NORTH</th>\n",
       "      <th>GREEK_STREET</th>\n",
       "      <th>WESTERN_WAY</th>\n",
       "      <th>CHARLEMONT_PLACE</th>\n",
       "      <th>...</th>\n",
       "      <th>ST._JAMES_HOSPITAL_(CENTRAL)</th>\n",
       "      <th>HEUSTON_BRIDGE_(NORTH)</th>\n",
       "      <th>MOUNT_BROWN</th>\n",
       "      <th>CHATHAM_STREET</th>\n",
       "      <th>GRANTHAM_STREET</th>\n",
       "      <th>GRATTAN_STREET</th>\n",
       "      <th>HARDWICKE_STREET</th>\n",
       "      <th>HATCH_STREET</th>\n",
       "      <th>GOLDEN_LANE</th>\n",
       "      <th>CLARENDON_ROW</th>\n",
       "    </tr>\n",
       "    <tr>\n",
       "      <th>DATETIME</th>\n",
       "      <th></th>\n",
       "      <th></th>\n",
       "      <th></th>\n",
       "      <th></th>\n",
       "      <th></th>\n",
       "      <th></th>\n",
       "      <th></th>\n",
       "      <th></th>\n",
       "      <th></th>\n",
       "      <th></th>\n",
       "      <th></th>\n",
       "      <th></th>\n",
       "      <th></th>\n",
       "      <th></th>\n",
       "      <th></th>\n",
       "      <th></th>\n",
       "      <th></th>\n",
       "      <th></th>\n",
       "      <th></th>\n",
       "      <th></th>\n",
       "      <th></th>\n",
       "    </tr>\n",
       "  </thead>\n",
       "  <tbody>\n",
       "    <tr>\n",
       "      <th>2017-01-23 22:49:45</th>\n",
       "      <td>1</td>\n",
       "      <td>0</td>\n",
       "      <td>0</td>\n",
       "      <td>30</td>\n",
       "      <td>33</td>\n",
       "      <td>29</td>\n",
       "      <td>30</td>\n",
       "      <td>19</td>\n",
       "      <td>24</td>\n",
       "      <td>33</td>\n",
       "      <td>...</td>\n",
       "      <td>10</td>\n",
       "      <td>31</td>\n",
       "      <td>22</td>\n",
       "      <td>13.0</td>\n",
       "      <td>12</td>\n",
       "      <td>0</td>\n",
       "      <td>7</td>\n",
       "      <td>0</td>\n",
       "      <td>0</td>\n",
       "      <td>NaN</td>\n",
       "    </tr>\n",
       "    <tr>\n",
       "      <th>2017-01-23 22:58:10</th>\n",
       "      <td>1</td>\n",
       "      <td>0</td>\n",
       "      <td>0</td>\n",
       "      <td>30</td>\n",
       "      <td>33</td>\n",
       "      <td>29</td>\n",
       "      <td>30</td>\n",
       "      <td>19</td>\n",
       "      <td>24</td>\n",
       "      <td>33</td>\n",
       "      <td>...</td>\n",
       "      <td>10</td>\n",
       "      <td>31</td>\n",
       "      <td>22</td>\n",
       "      <td>17.0</td>\n",
       "      <td>12</td>\n",
       "      <td>0</td>\n",
       "      <td>6</td>\n",
       "      <td>0</td>\n",
       "      <td>0</td>\n",
       "      <td>NaN</td>\n",
       "    </tr>\n",
       "    <tr>\n",
       "      <th>2017-01-23 23:08:08</th>\n",
       "      <td>1</td>\n",
       "      <td>1</td>\n",
       "      <td>0</td>\n",
       "      <td>30</td>\n",
       "      <td>33</td>\n",
       "      <td>29</td>\n",
       "      <td>30</td>\n",
       "      <td>19</td>\n",
       "      <td>26</td>\n",
       "      <td>32</td>\n",
       "      <td>...</td>\n",
       "      <td>10</td>\n",
       "      <td>31</td>\n",
       "      <td>22</td>\n",
       "      <td>15.0</td>\n",
       "      <td>13</td>\n",
       "      <td>1</td>\n",
       "      <td>6</td>\n",
       "      <td>0</td>\n",
       "      <td>0</td>\n",
       "      <td>NaN</td>\n",
       "    </tr>\n",
       "    <tr>\n",
       "      <th>2017-01-23 23:18:09</th>\n",
       "      <td>1</td>\n",
       "      <td>1</td>\n",
       "      <td>0</td>\n",
       "      <td>29</td>\n",
       "      <td>34</td>\n",
       "      <td>29</td>\n",
       "      <td>30</td>\n",
       "      <td>18</td>\n",
       "      <td>32</td>\n",
       "      <td>32</td>\n",
       "      <td>...</td>\n",
       "      <td>10</td>\n",
       "      <td>31</td>\n",
       "      <td>22</td>\n",
       "      <td>15.0</td>\n",
       "      <td>13</td>\n",
       "      <td>1</td>\n",
       "      <td>6</td>\n",
       "      <td>0</td>\n",
       "      <td>0</td>\n",
       "      <td>NaN</td>\n",
       "    </tr>\n",
       "    <tr>\n",
       "      <th>2017-01-23 23:28:09</th>\n",
       "      <td>1</td>\n",
       "      <td>1</td>\n",
       "      <td>0</td>\n",
       "      <td>21</td>\n",
       "      <td>35</td>\n",
       "      <td>29</td>\n",
       "      <td>30</td>\n",
       "      <td>18</td>\n",
       "      <td>32</td>\n",
       "      <td>32</td>\n",
       "      <td>...</td>\n",
       "      <td>10</td>\n",
       "      <td>31</td>\n",
       "      <td>22</td>\n",
       "      <td>15.0</td>\n",
       "      <td>12</td>\n",
       "      <td>1</td>\n",
       "      <td>6</td>\n",
       "      <td>0</td>\n",
       "      <td>0</td>\n",
       "      <td>NaN</td>\n",
       "    </tr>\n",
       "  </tbody>\n",
       "</table>\n",
       "<p>5 rows × 102 columns</p>\n",
       "</div>"
      ],
      "text/plain": [
       "                     FENIAN_STREET  CITY_QUAY  FITZWILLIAM_SQUARE_EAST  \\\n",
       "DATETIME                                                                 \n",
       "2017-01-23 22:49:45              1          0                        0   \n",
       "2017-01-23 22:58:10              1          0                        0   \n",
       "2017-01-23 23:08:08              1          1                        0   \n",
       "2017-01-23 23:18:09              1          1                        0   \n",
       "2017-01-23 23:28:09              1          1                        0   \n",
       "\n",
       "                     BROOKFIELD_ROAD  EMMET_ROAD  ROTHE_ABBEY  \\\n",
       "DATETIME                                                        \n",
       "2017-01-23 22:49:45               30          33           29   \n",
       "2017-01-23 22:58:10               30          33           29   \n",
       "2017-01-23 23:08:08               30          33           29   \n",
       "2017-01-23 23:18:09               29          34           29   \n",
       "2017-01-23 23:28:09               21          35           29   \n",
       "\n",
       "                     KING_STREET_NORTH  GREEK_STREET  WESTERN_WAY  \\\n",
       "DATETIME                                                            \n",
       "2017-01-23 22:49:45                 30            19           24   \n",
       "2017-01-23 22:58:10                 30            19           24   \n",
       "2017-01-23 23:08:08                 30            19           26   \n",
       "2017-01-23 23:18:09                 30            18           32   \n",
       "2017-01-23 23:28:09                 30            18           32   \n",
       "\n",
       "                     CHARLEMONT_PLACE      ...        \\\n",
       "DATETIME                                   ...         \n",
       "2017-01-23 22:49:45                33      ...         \n",
       "2017-01-23 22:58:10                33      ...         \n",
       "2017-01-23 23:08:08                32      ...         \n",
       "2017-01-23 23:18:09                32      ...         \n",
       "2017-01-23 23:28:09                32      ...         \n",
       "\n",
       "                     ST._JAMES_HOSPITAL_(CENTRAL)  HEUSTON_BRIDGE_(NORTH)  \\\n",
       "DATETIME                                                                    \n",
       "2017-01-23 22:49:45                            10                      31   \n",
       "2017-01-23 22:58:10                            10                      31   \n",
       "2017-01-23 23:08:08                            10                      31   \n",
       "2017-01-23 23:18:09                            10                      31   \n",
       "2017-01-23 23:28:09                            10                      31   \n",
       "\n",
       "                     MOUNT_BROWN  CHATHAM_STREET  GRANTHAM_STREET  \\\n",
       "DATETIME                                                            \n",
       "2017-01-23 22:49:45           22            13.0               12   \n",
       "2017-01-23 22:58:10           22            17.0               12   \n",
       "2017-01-23 23:08:08           22            15.0               13   \n",
       "2017-01-23 23:18:09           22            15.0               13   \n",
       "2017-01-23 23:28:09           22            15.0               12   \n",
       "\n",
       "                     GRATTAN_STREET  HARDWICKE_STREET  HATCH_STREET  \\\n",
       "DATETIME                                                              \n",
       "2017-01-23 22:49:45               0                 7             0   \n",
       "2017-01-23 22:58:10               0                 6             0   \n",
       "2017-01-23 23:08:08               1                 6             0   \n",
       "2017-01-23 23:18:09               1                 6             0   \n",
       "2017-01-23 23:28:09               1                 6             0   \n",
       "\n",
       "                     GOLDEN_LANE  CLARENDON_ROW  \n",
       "DATETIME                                         \n",
       "2017-01-23 22:49:45            0            NaN  \n",
       "2017-01-23 22:58:10            0            NaN  \n",
       "2017-01-23 23:08:08            0            NaN  \n",
       "2017-01-23 23:18:09            0            NaN  \n",
       "2017-01-23 23:28:09            0            NaN  \n",
       "\n",
       "[5 rows x 102 columns]"
      ]
     },
     "execution_count": 108,
     "metadata": {},
     "output_type": "execute_result"
    }
   ],
   "source": [
    "df.head()"
   ]
  },
  {
   "cell_type": "code",
   "execution_count": 102,
   "metadata": {},
   "outputs": [
    {
     "name": "stdout",
     "output_type": "stream",
     "text": [
      "DATETIME\n",
      "2017-01-23 22:49:45    30\n",
      "2017-01-23 23:48:09    25\n",
      "2017-01-24 00:44:08    28\n",
      "2017-01-24 01:44:09    28\n",
      "2017-01-24 02:44:08    28\n",
      "2017-01-24 03:44:08    28\n",
      "2017-01-24 04:44:09    28\n",
      "2017-01-24 05:44:09    28\n",
      "2017-01-24 06:44:09    17\n",
      "2017-01-24 07:44:09    16\n",
      "Name: NORTH_CIRCULAR_ROAD, dtype: int64\n"
     ]
    },
    {
     "data": {
      "image/png": "[encoded data removed]",
      "text/plain": [
       "<Figure size 432x288 with 1 Axes>"
      ]
     },
     "metadata": {
      "needs_background": "light"
     },
     "output_type": "display_data"
    }
   ],
   "source": [
    "series = df['NORTH_CIRCULAR_ROAD'][::6]\n",
    "print(series.head(10))\n",
    "series.plot()\n",
    "pyplot.show()"
   ]
  },
  {
   "cell_type": "code",
   "execution_count": 101,
   "metadata": {},
   "outputs": [
    {
     "data": {
      "text/plain": [
       "DATETIME\n",
       "2017-01-23 22:49:45    30\n",
       "2017-01-23 22:58:10    30\n",
       "2017-01-23 23:08:08    24\n",
       "2017-01-23 23:18:09    22\n",
       "2017-01-23 23:28:09    21\n",
       "Name: NORTH_CIRCULAR_ROAD, dtype: int64"
      ]
     },
     "execution_count": 101,
     "metadata": {},
     "output_type": "execute_result"
    }
   ],
   "source": [
    "series.head()"
   ]
  },
  {
   "cell_type": "code",
   "execution_count": 18,
   "metadata": {},
   "outputs": [],
   "source": [
    "# select time series forecast model"
   ]
  },
  {
   "cell_type": "code",
   "execution_count": 19,
   "metadata": {},
   "outputs": [],
   "source": [
    "from statsmodels.tsa.ar_model import AR\n",
    "from sklearn.metrics import mean_squared_error\n",
    "import numpy"
   ]
  },
  {
   "cell_type": "code",
   "execution_count": 93,
   "metadata": {},
   "outputs": [
    {
     "name": "stdout",
     "output_type": "stream",
     "text": [
      "Test MSE: 4.757\n"
     ]
    },
    {
     "data": {
      "image/png": "[encoded data removed]",
      "text/plain": [
       "<Figure size 432x288 with 1 Axes>"
      ]
     },
     "metadata": {
      "needs_background": "light"
     },
     "output_type": "display_data"
    }
   ],
   "source": [
    "# create a difference transform of the dataset\n",
    "def difference(dataset):\n",
    "    diff = list()\n",
    "    for i in range(1, len(dataset)):\n",
    "        value = dataset[i] - dataset[i - 1]\n",
    "        diff.append(value)\n",
    "    return numpy.array(diff)\n",
    " \n",
    "# Make a prediction give regression coefficients and lag obs\n",
    "def predict(coef, history):\n",
    "    yhat = coef[0]\n",
    "    for i in range(1, len(coef)):\n",
    "        yhat += coef[i] * history[-i]\n",
    "    return yhat\n",
    "\n",
    "df = pd.read_csv('BikesHistData.csv', header=0, index_col=0)\n",
    "series = df['GRAND_CANAL_DOCK'][1000:1365]\n",
    "# split dataset\n",
    "X = difference(series.values)\n",
    "size = int(len(X) * 0.66)\n",
    "train, test = X[0:size], X[size:]\n",
    "# train autoregression\n",
    "model = AR(train)\n",
    "model_fit = model.fit(maxlag=6, disp=False)\n",
    "window = model_fit.k_ar\n",
    "coef = model_fit.params\n",
    "# walk forward over time steps in test\n",
    "history = [train[i] for i in range(len(train))]\n",
    "predictions = list()\n",
    "for t in range(len(test)):\n",
    "    yhat = predict(coef, history)\n",
    "    obs = test[t]\n",
    "    predictions.append(yhat)\n",
    "    history.append(obs)\n",
    "error = mean_squared_error(test, predictions)\n",
    "print('Test MSE: %.3f' % error)\n",
    "# plot\n",
    "pyplot.plot(test)\n",
    "pyplot.plot(predictions, color='red')\n",
    "pyplot.show()"
   ]
  },
  {
   "cell_type": "code",
   "execution_count": 28,
   "metadata": {},
   "outputs": [],
   "source": [
    "# Finalize and Save Time Series Forecast Model"
   ]
  },
  {
   "cell_type": "code",
   "execution_count": 94,
   "metadata": {},
   "outputs": [],
   "source": [
    "from pandas import read_csv\n",
    "from statsmodels.tsa.ar_model import AR\n",
    "from statsmodels.tsa.ar_model import ARResults\n",
    "import numpy\n",
    " \n",
    "# create a difference transform of the dataset\n",
    "def difference(dataset):\n",
    "\tdiff = list()\n",
    "\tfor i in range(1, len(dataset)):\n",
    "\t\tvalue = dataset[i] - dataset[i - 1]\n",
    "\t\tdiff.append(value)\n",
    "\treturn numpy.array(diff)\n",
    " \n",
    "# load dataset\n",
    "df = read_csv('BikesHistData.csv', header=0, index_col=0)\n",
    "series = df['GRAND_CANAL_DOCK']\n",
    "X = difference(series.values)\n",
    "# fit model\n",
    "model = AR(X)\n",
    "model_fit = model.fit(maxlag=150, disp=False)\n",
    "# save model to file\n",
    "model_fit.save('ar_model.pkl')\n",
    "# save the differenced dataset\n",
    "numpy.save('ar_data.npy', X)\n",
    "# save the last ob\n",
    "numpy.save('ar_obs.npy', [series.values[-1]])"
   ]
  },
  {
   "cell_type": "code",
   "execution_count": 95,
   "metadata": {},
   "outputs": [
    {
     "name": "stdout",
     "output_type": "stream",
     "text": [
      "[ 0.0006333   0.06240084  0.00703684  0.00666585 -0.00730851 -0.01319625\n",
      " -0.0027671  -0.01462357 -0.03131185 -0.01464539 -0.02265528 -0.01675912\n",
      " -0.00710178 -0.01493699 -0.01389095 -0.01467704 -0.02355842 -0.00507362\n",
      " -0.01886709 -0.01784747 -0.01500137 -0.00817443 -0.02079609 -0.02158764\n",
      " -0.01335357 -0.01203445 -0.01111537 -0.02026922 -0.00724958 -0.0269094\n",
      " -0.00861118 -0.01225795 -0.01449534 -0.02382334 -0.02445249 -0.00943592\n",
      " -0.01483461 -0.00230701 -0.01736776 -0.01507588 -0.01599629 -0.00412442\n",
      " -0.02395075 -0.01231225 -0.01400959 -0.0160444  -0.01212038 -0.0162505\n",
      " -0.02046844 -0.02531223 -0.03196904 -0.02713066 -0.05275768 -0.04085431\n",
      " -0.03254596 -0.01992349 -0.03220554 -0.02367275 -0.02570695 -0.02007698\n",
      " -0.01031608 -0.00925493 -0.02116263 -0.01378572 -0.0186792  -0.01460084\n",
      " -0.01150506 -0.01466734 -0.01601929 -0.01650742 -0.014209   -0.01082319\n",
      " -0.02712403 -0.00527244 -0.01084989 -0.01651081 -0.02396816 -0.01540193\n",
      " -0.01551416 -0.01005254 -0.01070446 -0.00882496 -0.01673484 -0.01058593\n",
      " -0.01275123 -0.02704146 -0.02406714 -0.0250928  -0.01829278 -0.02501098\n",
      " -0.02645648 -0.04537006 -0.0242489  -0.01760634 -0.03531591 -0.00949726\n",
      " -0.01819547 -0.01346949 -0.0111331  -0.01044193 -0.01436686 -0.01005154\n",
      " -0.00976948 -0.01521392 -0.0258882  -0.01409259 -0.02562879 -0.02262853\n",
      " -0.02154076 -0.01665985 -0.02627558 -0.00860168 -0.02255737 -0.01266095\n",
      " -0.00454746 -0.01332077 -0.02164348 -0.01167197 -0.02424832 -0.00785318\n",
      " -0.01950805 -0.01610504 -0.01747592 -0.01468637 -0.0157922  -0.01480288\n",
      " -0.01117167 -0.00500943 -0.00236761 -0.00047589 -0.00779867 -0.01247153\n",
      " -0.00280008 -0.01897242 -0.01059605 -0.00915621 -0.00591702 -0.00450695\n",
      "  0.01502098  0.01642092  0.0200917   0.02903105  0.02771043  0.04092292\n",
      "  0.08761302  0.03688983  0.02343574  0.02755685  0.01953131  0.00164011\n",
      "  0.01347413]\n",
      "[22]\n"
     ]
    }
   ],
   "source": [
    "# load the AR model from file\n",
    "from statsmodels.tsa.ar_model import ARResults\n",
    "import numpy\n",
    "loaded = ARResults.load('ar_model.pkl')\n",
    "print(loaded.params)\n",
    "data = numpy.load('ar_data.npy')\n",
    "last_ob = numpy.load('ar_obs.npy')\n",
    "print(last_ob)"
   ]
  },
  {
   "cell_type": "code",
   "execution_count": 96,
   "metadata": {},
   "outputs": [],
   "source": [
    "# fit an AR model and manually save coefficients to file\n",
    "from pandas import read_csv\n",
    "from statsmodels.tsa.ar_model import AR\n",
    "import numpy\n",
    "\n",
    "# create a difference transform of the dataset\n",
    "def difference(dataset):\n",
    "\tdiff = list()\n",
    "\tfor i in range(1, len(dataset)):\n",
    "\t\tvalue = dataset[i] - dataset[i - 1]\n",
    "\t\tdiff.append(value)\n",
    "\treturn numpy.array(diff)\n",
    "\n",
    "# load dataset\n",
    "df = read_csv('BikesHistData.csv', header=0, index_col=0)\n",
    "series = df['GRAND_CANAL_DOCK']\n",
    "X = difference(series.values)\n",
    "# fit model\n",
    "window_size = 150\n",
    "model = AR(X)\n",
    "model_fit = model.fit(maxlag=window_size, disp=False)\n",
    "# save coefficients\n",
    "coef = model_fit.params\n",
    "numpy.save('man_model.npy', coef)\n",
    "# save lag\n",
    "lag = X[-window_size:]\n",
    "numpy.save('man_data.npy', lag)\n",
    "# save the last ob\n",
    "numpy.save('man_obs.npy', [series.values[-1]])"
   ]
  },
  {
   "cell_type": "code",
   "execution_count": 97,
   "metadata": {},
   "outputs": [
    {
     "name": "stdout",
     "output_type": "stream",
     "text": [
      "[ 0.0006333   0.06240084  0.00703684  0.00666585 -0.00730851 -0.01319625\n",
      " -0.0027671  -0.01462357 -0.03131185 -0.01464539 -0.02265528 -0.01675912\n",
      " -0.00710178 -0.01493699 -0.01389095 -0.01467704 -0.02355842 -0.00507362\n",
      " -0.01886709 -0.01784747 -0.01500137 -0.00817443 -0.02079609 -0.02158764\n",
      " -0.01335357 -0.01203445 -0.01111537 -0.02026922 -0.00724958 -0.0269094\n",
      " -0.00861118 -0.01225795 -0.01449534 -0.02382334 -0.02445249 -0.00943592\n",
      " -0.01483461 -0.00230701 -0.01736776 -0.01507588 -0.01599629 -0.00412442\n",
      " -0.02395075 -0.01231225 -0.01400959 -0.0160444  -0.01212038 -0.0162505\n",
      " -0.02046844 -0.02531223 -0.03196904 -0.02713066 -0.05275768 -0.04085431\n",
      " -0.03254596 -0.01992349 -0.03220554 -0.02367275 -0.02570695 -0.02007698\n",
      " -0.01031608 -0.00925493 -0.02116263 -0.01378572 -0.0186792  -0.01460084\n",
      " -0.01150506 -0.01466734 -0.01601929 -0.01650742 -0.014209   -0.01082319\n",
      " -0.02712403 -0.00527244 -0.01084989 -0.01651081 -0.02396816 -0.01540193\n",
      " -0.01551416 -0.01005254 -0.01070446 -0.00882496 -0.01673484 -0.01058593\n",
      " -0.01275123 -0.02704146 -0.02406714 -0.0250928  -0.01829278 -0.02501098\n",
      " -0.02645648 -0.04537006 -0.0242489  -0.01760634 -0.03531591 -0.00949726\n",
      " -0.01819547 -0.01346949 -0.0111331  -0.01044193 -0.01436686 -0.01005154\n",
      " -0.00976948 -0.01521392 -0.0258882  -0.01409259 -0.02562879 -0.02262853\n",
      " -0.02154076 -0.01665985 -0.02627558 -0.00860168 -0.02255737 -0.01266095\n",
      " -0.00454746 -0.01332077 -0.02164348 -0.01167197 -0.02424832 -0.00785318\n",
      " -0.01950805 -0.01610504 -0.01747592 -0.01468637 -0.0157922  -0.01480288\n",
      " -0.01117167 -0.00500943 -0.00236761 -0.00047589 -0.00779867 -0.01247153\n",
      " -0.00280008 -0.01897242 -0.01059605 -0.00915621 -0.00591702 -0.00450695\n",
      "  0.01502098  0.01642092  0.0200917   0.02903105  0.02771043  0.04092292\n",
      "  0.08761302  0.03688983  0.02343574  0.02755685  0.01953131  0.00164011\n",
      "  0.01347413]\n",
      "[  0   0   0   0   0   0   0   3   0   0 -10  -5   1   4  -1   0   1  -1\n",
      "   0   0   9  -1   2  -1   1   0   0   0   0   0  -1   0   1   0   0   0\n",
      "   0   0   0   0   0   0   1   0   0   0  -1  -4  -3  -4  -2   1   4   6\n",
      "   0   2   0  -5  -4  -1  -2  -1  -4  -3   1  -1   1   0   2   1   0  -2\n",
      "  -1  -1  -4   0  -2   1  -4   3  -4   5   2   4   2   0   0   0   1   2\n",
      "   0   1   1  -1   1  -1   2   0  -1  -1   1  -2  -2   0  -1   0  -2   0\n",
      "   1   0   0  -1  -1   0  -2   0   1   0   0   0   0   0   0   0   0   0\n",
      "   0   0   0 -17   0   0   0   0   0   0   0   0   0  20   1   0   0   0\n",
      "   0   0   0   0   0   0]\n",
      "[22]\n"
     ]
    }
   ],
   "source": [
    "# load the manually saved model from file\n",
    "import numpy\n",
    "coef = numpy.load('man_model.npy')\n",
    "print(coef)\n",
    "lag = numpy.load('man_data.npy')\n",
    "print(lag)\n",
    "last_ob = numpy.load('man_obs.npy')\n",
    "print(last_ob)"
   ]
  },
  {
   "cell_type": "code",
   "execution_count": 34,
   "metadata": {},
   "outputs": [],
   "source": [
    "#Make a Time Series Forecast"
   ]
  },
  {
   "cell_type": "code",
   "execution_count": 98,
   "metadata": {},
   "outputs": [
    {
     "name": "stdout",
     "output_type": "stream",
     "text": [
      "Prediction: 22.114911\n"
     ]
    }
   ],
   "source": [
    "# load AR model from file and make a one-step prediction\n",
    "from statsmodels.tsa.ar_model import ARResults\n",
    "import numpy\n",
    "# load model\n",
    "model = ARResults.load('ar_model.pkl')\n",
    "data = numpy.load('ar_data.npy')\n",
    "last_ob = numpy.load('ar_obs.npy')\n",
    "# make prediction\n",
    "predictions = model.predict(start=len(data), end=len(data))\n",
    "# transform prediction\n",
    "yhat = predictions[0] + last_ob[0]\n",
    "print('Prediction: %f' % yhat)"
   ]
  },
  {
   "cell_type": "code",
   "execution_count": 99,
   "metadata": {},
   "outputs": [
    {
     "name": "stdout",
     "output_type": "stream",
     "text": [
      "Prediction: 22.114911\n"
     ]
    }
   ],
   "source": [
    "# load a coefficients and from file and make a manual prediction\n",
    "import numpy\n",
    " \n",
    "def predict(coef, history):\n",
    "\tyhat = coef[0]\n",
    "\tfor i in range(1, len(coef)):\n",
    "\t\tyhat += coef[i] * history[-i]\n",
    "\treturn yhat\n",
    " \n",
    "# load model\n",
    "coef = numpy.load('man_model.npy')\n",
    "lag = numpy.load('man_data.npy')\n",
    "last_ob = numpy.load('man_obs.npy')\n",
    "# make prediction\n",
    "prediction = predict(coef, lag)\n",
    "# transform prediction\n",
    "yhat = prediction + last_ob[0]\n",
    "print('Prediction: %f' % yhat)"
   ]
  },
  {
   "cell_type": "code",
   "execution_count": 63,
   "metadata": {},
   "outputs": [
    {
     "data": {
      "text/plain": [
       "22"
      ]
     },
     "execution_count": 63,
     "metadata": {},
     "output_type": "execute_result"
    }
   ],
   "source": []
  },
  {
   "cell_type": "code",
   "execution_count": 37,
   "metadata": {},
   "outputs": [],
   "source": [
    "# Update Forecast Model"
   ]
  },
  {
   "cell_type": "code",
   "execution_count": 92,
   "metadata": {},
   "outputs": [],
   "source": [
    "# update the data for the AR model with a new obs\n",
    "import numpy\n",
    "# get real observation\n",
    "observation = 48\n",
    "# load the saved data\n",
    "data = numpy.load('ar_data.npy')\n",
    "last_ob = numpy.load('ar_obs.npy')\n",
    "# update and save differenced observation\n",
    "diffed = observation - last_ob[0]\n",
    "data = numpy.append(data, [diffed], axis=0)\n",
    "numpy.save('ar_data.npy', data)\n",
    "# update and save real observation\n",
    "last_ob[0] = observation\n",
    "numpy.save('ar_obs.npy', last_ob)"
   ]
  },
  {
   "cell_type": "code",
   "execution_count": 61,
   "metadata": {},
   "outputs": [
    {
     "data": {
      "text/plain": [
       "48"
      ]
     },
     "execution_count": 61,
     "metadata": {},
     "output_type": "execute_result"
    }
   ],
   "source": []
  },
  {
   "cell_type": "code",
   "execution_count": 45,
   "metadata": {},
   "outputs": [
    {
     "data": {
      "text/plain": [
       "41"
      ]
     },
     "execution_count": 45,
     "metadata": {},
     "output_type": "execute_result"
    }
   ],
   "source": []
  }
 ],
 "metadata": {
  "kernelspec": {
   "display_name": "Python 3",
   "language": "python",
   "name": "python3"
  },
  "language_info": {
   "codemirror_mode": {
    "name": "ipython",
    "version": 3
   },
   "file_extension": ".py",
   "mimetype": "text/x-python",
   "name": "python",
   "nbconvert_exporter": "python",
   "pygments_lexer": "ipython3",
   "version": "3.7.1"
  }
 },
 "nbformat": 4,
 "nbformat_minor": 2
}
